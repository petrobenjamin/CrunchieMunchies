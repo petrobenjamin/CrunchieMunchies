{
  "nbformat": 4,
  "nbformat_minor": 0,
  "metadata": {
    "colab": {
      "provenance": [],
      "authorship_tag": "ABX9TyNrXNbUofL/grgAlTwmNOQw",
      "include_colab_link": true
    },
    "kernelspec": {
      "name": "python3",
      "display_name": "Python 3"
    },
    "language_info": {
      "name": "python"
    }
  },
  "cells": [
    {
      "cell_type": "markdown",
      "metadata": {
        "id": "view-in-github",
        "colab_type": "text"
      },
      "source": [
        "<a href=\"https://colab.research.google.com/github/petrobenjamin/CrunchieMunchies/blob/main/CrunchieMunchies.ipynb\" target=\"_parent\"><img src=\"https://colab.research.google.com/assets/colab-badge.svg\" alt=\"Open In Colab\"/></a>"
      ]
    },
    {
      "cell_type": "markdown",
      "source": [
        "Actividad CrunchieMunchies\n",
        "Fecha: 22 de Abril de 2024\n",
        "\n",
        "Presentado por: benjamin de jesus petro ramirez\n",
        "ID : 000547015\n",
        "\n",
        "Email:benjamin.petro@upb.edu.co"
      ],
      "metadata": {
        "id": "74gU3HP-pn_6"
      }
    },
    {
      "cell_type": "code",
      "execution_count": 2,
      "metadata": {
        "colab": {
          "base_uri": "https://localhost:8080/"
        },
        "id": "2zBj9z5noCoF",
        "outputId": "4de853a7-27b7-4741-a78b-7523cb09827f"
      },
      "outputs": [
        {
          "output_type": "stream",
          "name": "stdout",
          "text": [
            "El promedio es:  106.88311688311688\n",
            "\n",
            "La media es: [ 50.  50.  50.  70.  70.  80.  90.  90.  90.  90.  90.  90.  90. 100.\n",
            " 100. 100. 100. 100. 100. 100. 100. 100. 100. 100. 100. 100. 100. 100.\n",
            " 100. 100. 110. 110. 110. 110. 110. 110. 110. 110. 110. 110. 110. 110.\n",
            " 110. 110. 110. 110. 110. 110. 110. 110. 110. 110. 110. 110. 110. 110.\n",
            " 110. 110. 110. 120. 120. 120. 120. 120. 120. 120. 120. 120. 120. 130.\n",
            " 130. 140. 140. 140. 150. 150. 160.]\n",
            "\n",
            "La mediana es:  110.0\n",
            "\n",
            "El perceptil requerido es:  4 , 70.0 calorias\n",
            "\n",
            "El porcentaje de cereales con mas de 60 calorias:  96.1038961038961 %\n",
            "\n",
            "La desviacion estandar de:  19.35718533390827\n"
          ]
        }
      ],
      "source": [
        "import numpy as np\n",
        "\n",
        "calorie_stats = np.genfromtxt(\"//content/sample_data/cereal.csv\", delimiter=\",\")\n",
        "\n",
        "average_calories = np.array(calorie_stats)\n",
        "calorie_stats = np.sort(calorie_stats)\n",
        "print(\"El promedio es: \", np.mean(average_calories))\n",
        "print()\n",
        "print(\"La media es:\", calorie_stats)\n",
        "print()\n",
        "median_calories = np.median(calorie_stats)\n",
        "print(\"La mediana es: \", median_calories)\n",
        "print()\n",
        "i = 0\n",
        "nth_percentile = 0\n",
        "while nth_percentile < 60:\n",
        "  nth_percentile = np.percentile(calorie_stats, i)\n",
        "  i += 1\n",
        "\n",
        "more_calories = (len(calorie_stats[calorie_stats > 60])) / len(calorie_stats) * 100\n",
        "\n",
        "calorie_std = np.std(calorie_stats)\n",
        "print(\"El perceptil requerido es: \",i-1,\",\",nth_percentile,\"calorias\")\n",
        "print()\n",
        "print(\"El porcentaje de cereales con mas de 60 calorias: \",more_calories,\"%\")\n",
        "print()\n",
        "print(\"La desviacion estandar de: \",calorie_std)"
      ]
    }
  ]
}